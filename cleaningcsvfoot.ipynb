{
 "cells": [
  {
   "cell_type": "code",
   "execution_count": 1,
   "id": "ad39f9c9-93b6-4771-8c73-781416ea1fd7",
   "metadata": {},
   "outputs": [
    {
     "name": "stdout",
     "output_type": "stream",
     "text": [
      "(2852, 37)\n",
      "Rk             0\n",
      "Player         0\n",
      "Nation         3\n",
      "Pos            0\n",
      "Squad          0\n",
      "Comp           0\n",
      "Age            4\n",
      "Born           4\n",
      "MP             0\n",
      "Starts         0\n",
      "Min            0\n",
      "90s            0\n",
      "Gls            0\n",
      "Ast            0\n",
      "G+A            0\n",
      "G-PK           0\n",
      "PK             0\n",
      "PKatt          0\n",
      "CrdY           0\n",
      "CrdR           0\n",
      "xG             1\n",
      "npxG           1\n",
      "xAG            1\n",
      "npxG+xAG       1\n",
      "PrgC           1\n",
      "PrgP           1\n",
      "PrgR           1\n",
      "Gls_90         0\n",
      "Ast_90         0\n",
      "G+A_90         0\n",
      "G-PK_90        0\n",
      "G+A-PK_90      0\n",
      "xG_90          1\n",
      "xAG_90         1\n",
      "xG+xAG_90      1\n",
      "npxG_90        1\n",
      "npxG+xAG_90    1\n",
      "dtype: int64\n"
     ]
    }
   ],
   "source": [
    "import pandas as pd\n",
    "df = pd.read_csv(\"top5-players.csv\")\n",
    "print(df.shape)\n",
    "print(df.isna().sum())"
   ]
  },
  {
   "cell_type": "code",
   "execution_count": null,
   "id": "ab80e1f9",
   "metadata": {},
   "outputs": [
    {
     "name": "stdout",
     "output_type": "stream",
     "text": [
      "(2846, 37)\n"
     ]
    }
   ],
   "source": [
    "import pandas as pd\n",
    "df = pd.read_csv(\"top5-players.csv\")\n",
    "df = df.drop_duplicates()\n",
    "df = df.dropna()\n",
    "df.to_csv(\"top5playersclean.csv\", index=False)\n",
    "\n"
   ]
  }
 ],
 "metadata": {
  "kernelspec": {
   "display_name": ".venv",
   "language": "python",
   "name": "python3"
  },
  "language_info": {
   "codemirror_mode": {
    "name": "ipython",
    "version": 3
   },
   "file_extension": ".py",
   "mimetype": "text/x-python",
   "name": "python",
   "nbconvert_exporter": "python",
   "pygments_lexer": "ipython3",
   "version": "3.13.7"
  }
 },
 "nbformat": 4,
 "nbformat_minor": 5
}
